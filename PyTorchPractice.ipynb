{
  "nbformat": 4,
  "nbformat_minor": 0,
  "metadata": {
    "colab": {
      "name": "PyTorchPractice.ipynb",
      "provenance": [],
      "collapsed_sections": [],
      "authorship_tag": "ABX9TyOL3mcCm0KOCHwtY7tVcMig",
      "include_colab_link": true
    },
    "kernelspec": {
      "name": "python3",
      "display_name": "Python 3"
    },
    "language_info": {
      "name": "python"
    }
  },
  "cells": [
    {
      "cell_type": "markdown",
      "metadata": {
        "id": "view-in-github",
        "colab_type": "text"
      },
      "source": [
        "<a href=\"https://colab.research.google.com/github/Vishesh20155/PyTorch/blob/main/PyTorchPractice.ipynb\" target=\"_parent\"><img src=\"https://colab.research.google.com/assets/colab-badge.svg\" alt=\"Open In Colab\"/></a>"
      ]
    },
    {
      "cell_type": "code",
      "execution_count": null,
      "metadata": {
        "colab": {
          "base_uri": "https://localhost:8080/"
        },
        "id": "OYEL_4q_8adQ",
        "outputId": "7944d837-b296-4b64-ca50-6c609eb83394"
      },
      "outputs": [
        {
          "output_type": "stream",
          "name": "stdout",
          "text": [
            "tensor([[0.7134, 0.5019, 0.7503, 0.2249, 0.4190],\n",
            "        [0.3506, 0.8739, 0.3231, 0.0588, 0.6015],\n",
            "        [0.3333, 0.4334, 0.7291, 0.1184, 0.9263]])\n"
          ]
        }
      ],
      "source": [
        "import torch\n",
        "x = torch.rand(3, 5)\n",
        "print(x)"
      ]
    },
    {
      "cell_type": "markdown",
      "source": [
        ""
      ],
      "metadata": {
        "id": "MhthDzmqETRF"
      }
    }
  ]
}